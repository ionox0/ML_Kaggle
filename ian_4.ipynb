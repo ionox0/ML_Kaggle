{
 "cells": [
  {
   "cell_type": "code",
   "execution_count": 1,
   "metadata": {
    "collapsed": false
   },
   "outputs": [],
   "source": [
    "import csv\n",
    "import math\n",
    "import numpy as np\n",
    "import pandas as pd\n",
    "import string\n",
    "\n",
    "# Classification utils\n",
    "from sklearn.cross_validation import train_test_split\n",
    "from sklearn.cross_validation import cross_val_score\n",
    "from sklearn.feature_selection import SelectKBest\n",
    "from sklearn.feature_selection import chi2\n",
    "from sklearn import grid_search\n",
    "from sklearn.metrics import f1_score\n",
    "\n",
    "# Classifiers\n",
    "from sklearn.ensemble import RandomForestClassifier\n",
    "\n",
    "import matplotlib\n",
    "import matplotlib.pyplot as plt\n",
    "\n",
    "matplotlib.style.use('ggplot')\n",
    "import pprint\n",
    "pp = pprint.PrettyPrinter(indent=4)\n",
    "\n",
    "task = pd.read_csv('data.csv')\n",
    "quiz = pd.read_csv('quiz.csv')"
   ]
  },
  {
   "cell_type": "code",
   "execution_count": 2,
   "metadata": {
    "collapsed": true
   },
   "outputs": [],
   "source": [
    "# Name Columns (53 total)\n",
    "alphabet = list(string.ascii_lowercase)\n",
    "alphabet2 = alphabet + [l+l for l in alphabet] + ['aaa']\n",
    "\n",
    "task.columns = alphabet2\n",
    "# Leave out label column for test data\n",
    "quiz.columns = alphabet2[:-1]\n",
    "\n",
    "continuous_cols = [\n",
    "   'vv', 'ww'\n",
    "]\n",
    "\n",
    "# Designate Boolean Columns (15 total)\n",
    "boolean_cols = [\n",
    "    'g', 'p', 'q', 's',\n",
    "    'v', 'w', 'y', 'z',\n",
    "    'oo', 'pp', 'qq', 'rr',\n",
    "    'xx', 'yy', 'zz'\n",
    "]\n",
    "\n",
    "zero_one_two_cols = ['aa','bb','cc','dd','ee','ff','gg','hh','ii','jj','kk','ll','mm','nn']\n",
    "\n",
    "# Designate Categorical Columns (16 total)\n",
    "cols = task.columns\n",
    "num_cols = task._get_numeric_data().columns\n",
    "list(set(cols) - set(num_cols))\n",
    "\n",
    "categorical_cols = ['a', 'c', 'd', 'e', 'f', 'h', 'i', 'j', 'k',\n",
    " 'l', 'm', 'n', 'o', \n",
    "   'ss', 'tt', 'uu'\n",
    " ]\n",
    "\n",
    "for col in categorical_cols:\n",
    "    task[col] = task[col].astype('category')\n",
    "    quiz[col] = quiz[col].astype('category')\n",
    "\n",
    "# Designate Numeric Columns (37 total)\n",
    "numeric_cols = ['b', 'g', 'p', 'q', 'r', 's', 't', 'u', 'v', 'w', 'x', 'y',\n",
    "       'z', 'aa', 'bb', 'cc', 'dd', 'ee', 'ff', 'gg', 'hh', 'ii',\n",
    "       'jj', 'kk', 'll', 'mm', 'nn', 'oo', 'pp', 'qq', 'rr', 'vv',\n",
    "       'ww', 'xx', 'yy', 'zz']\n",
    "\n",
    "numeric_indices = []\n",
    "for i, letter in enumerate(alphabet2):\n",
    "    if letter in numeric_cols:\n",
    "        numeric_indices.append(i)\n",
    "\n",
    "train_labels = np.array(task['aaa']).astype(int)"
   ]
  },
  {
   "cell_type": "code",
   "execution_count": 3,
   "metadata": {
    "collapsed": false
   },
   "outputs": [],
   "source": [
    "# One-hot encoded features for categorical vars\n",
    "\n",
    "X_dummies = pd.get_dummies(task[categorical_cols + zero_one_two_cols + boolean_cols])\n",
    "X_quiz_dummies = pd.get_dummies(quiz[categorical_cols + zero_one_two_cols + boolean_cols])\n",
    "\n",
    "X_train_dummies = X_dummies[[col for col in X_dummies.columns if col in X_quiz_dummies.columns]]\n",
    "X_quiz_dummies = X_quiz_dummies[[col for col in X_quiz_dummies.columns if col in X_train_dummies.columns]]"
   ]
  },
  {
   "cell_type": "code",
   "execution_count": 5,
   "metadata": {
    "collapsed": false
   },
   "outputs": [
    {
     "ename": "AttributeError",
     "evalue": "'numpy.ndarray' object has no attribute 'get_support'",
     "output_type": "error",
     "traceback": [
      "\u001b[0;31m---------------------------------------------------------------------------\u001b[0m",
      "\u001b[0;31mAttributeError\u001b[0m                            Traceback (most recent call last)",
      "\u001b[0;32m<ipython-input-5-2679ac08d46c>\u001b[0m in \u001b[0;36m<module>\u001b[0;34m()\u001b[0m\n\u001b[1;32m      2\u001b[0m \u001b[0mk_best\u001b[0m \u001b[0;34m=\u001b[0m \u001b[0mSelectKBest\u001b[0m\u001b[0;34m(\u001b[0m\u001b[0mchi2\u001b[0m\u001b[0;34m,\u001b[0m \u001b[0mk\u001b[0m\u001b[0;34m=\u001b[0m\u001b[0;36m1000\u001b[0m\u001b[0;34m)\u001b[0m\u001b[0;34m\u001b[0m\u001b[0m\n\u001b[1;32m      3\u001b[0m \u001b[0mX_train_k_best_cols\u001b[0m \u001b[0;34m=\u001b[0m \u001b[0mk_best\u001b[0m\u001b[0;34m.\u001b[0m\u001b[0mfit_transform\u001b[0m\u001b[0;34m(\u001b[0m\u001b[0mX_train_dummies\u001b[0m\u001b[0;34m,\u001b[0m \u001b[0mtask\u001b[0m\u001b[0;34m.\u001b[0m\u001b[0mix\u001b[0m\u001b[0;34m[\u001b[0m\u001b[0;34m:\u001b[0m\u001b[0;34m,\u001b[0m\u001b[0;34m-\u001b[0m\u001b[0;36m1\u001b[0m\u001b[0;34m]\u001b[0m\u001b[0;34m)\u001b[0m\u001b[0;34m\u001b[0m\u001b[0m\n\u001b[0;32m----> 4\u001b[0;31m \u001b[0ma\u001b[0m \u001b[0;34m=\u001b[0m \u001b[0mX_train_k_best_cols\u001b[0m\u001b[0;34m.\u001b[0m\u001b[0mget_support\u001b[0m\u001b[0;34m(\u001b[0m\u001b[0;34m)\u001b[0m\u001b[0;34m\u001b[0m\u001b[0m\n\u001b[0m\u001b[1;32m      5\u001b[0m \u001b[0;34m\u001b[0m\u001b[0m\n\u001b[1;32m      6\u001b[0m \u001b[0;31m# Add the continuous features back in\u001b[0m\u001b[0;34m\u001b[0m\u001b[0;34m\u001b[0m\u001b[0m\n",
      "\u001b[0;31mAttributeError\u001b[0m: 'numpy.ndarray' object has no attribute 'get_support'"
     ]
    }
   ],
   "source": [
    "# Select K best\n",
    "k_best = SelectKBest(chi2, k=1000)\n",
    "X_train_k_best_cols = k_best.fit_transform(X_train_dummies, task.ix[:,-1])\n",
    "a = X_train_k_best_cols.get_support()\n",
    "\n",
    "# Add the continuous features back in\n",
    "X_train_k_best_cols = pd.DataFrame(X_train_k_best_cols)\n",
    "X_train_k_best_cols = pd.concat([X_train_k_best_cols, task[continuous_cols]], axis=1)"
   ]
  },
  {
   "cell_type": "code",
   "execution_count": 23,
   "metadata": {
    "collapsed": false
   },
   "outputs": [],
   "source": [
    "X_quiz_k_best_cols = X_quiz_dummies.iloc[:,a]\n",
    "\n",
    "X_quiz_k_best = pd.DataFrame(X_quiz_k_best_cols)\n",
    "X_quiz_k_best = pd.concat([X_quiz_k_best, quiz[continuous_cols]], axis=1)"
   ]
  },
  {
   "cell_type": "code",
   "execution_count": 24,
   "metadata": {
    "collapsed": false,
    "scrolled": true
   },
   "outputs": [],
   "source": [
    "rf = RandomForestClassifier(n_jobs=3, n_estimators=100, max_features=50, max_depth=200)\n",
    "clf_full_trained = rf.fit(X_train_k_best_cols, task.ix[:,-1])"
   ]
  },
  {
   "cell_type": "code",
   "execution_count": 22,
   "metadata": {
    "collapsed": false
   },
   "outputs": [
    {
     "name": "stdout",
     "output_type": "stream",
     "text": [
      "            a    b                c    d         e      f    g           h  \\\n",
      "0         pro  0.0          prep_to    g   clarify  indef  0.0     prep_of   \n",
      "1         def  0.0             pobj    f     check    def  0.0        dobj   \n",
      "2       indef  0.0             dobj    g  query_yn    def  0.0     prep_of   \n",
      "3         pro  0.0             root    f   explain  indef  0.0        dobj   \n",
      "4         NaN  NaN              NaN  NaN       NaN    NaN  NaN         NaN   \n",
      "5         NaN  NaN              NaN  NaN       NaN    NaN  NaN         NaN   \n",
      "6         NaN  NaN              NaN  NaN       NaN    NaN  NaN         NaN   \n",
      "7         NaN  NaN              NaN  NaN       NaN    NaN  NaN         NaN   \n",
      "8         NaN  NaN              NaN  NaN       NaN    NaN  NaN         NaN   \n",
      "9         NaN  NaN              NaN  NaN       NaN    NaN  NaN         NaN   \n",
      "10        pro  0.0  prep_underneath    g  instruct    def  0.0     prep_of   \n",
      "11       null  0.0            nsubj    g  query_yn  indef  0.0       xcomp   \n",
      "12        NaN  NaN              NaN  NaN       NaN    NaN  NaN         NaN   \n",
      "13        NaN  NaN              NaN  NaN       NaN    NaN  NaN         NaN   \n",
      "14       null  0.0               nn    g     align   null  0.0        dobj   \n",
      "15       null  0.0          prep_of    g  instruct    def  0.0   prep_from   \n",
      "16       dctc  0.0              det    g  instruct    def  0.0     prep_at   \n",
      "17        NaN  NaN              NaN  NaN       NaN    NaN  NaN         NaN   \n",
      "18        def  0.0            nsubj    g  query_yn   dctc  0.0  prep_after   \n",
      "19        NaN  NaN              NaN  NaN       NaN    NaN  NaN         NaN   \n",
      "20        pro  0.0            nsubj    g  instruct    def  0.0        dobj   \n",
      "21       null  0.0             root    f   explain   null  0.0     prep_of   \n",
      "22        def  0.0               nn    g  instruct   null  0.0        dobj   \n",
      "23        def  0.0          prep_of    g     align   null  0.0        dobj   \n",
      "24     numpro  0.0             pobj    f   explain    def  0.0         dep   \n",
      "25        NaN  NaN              NaN  NaN       NaN    NaN  NaN         NaN   \n",
      "26        pro  0.0             dobj    f   explain  indef  0.0  prep_above   \n",
      "27       null  0.0             dobj    f  query_yn  indef  0.0        root   \n",
      "28        NaN  NaN              NaN  NaN       NaN    NaN  NaN         NaN   \n",
      "29         el  0.0             root    f   explain    def  0.0     prep_at   \n",
      "...       ...  ...              ...  ...       ...    ...  ...         ...   \n",
      "31679     NaN  NaN              NaN  NaN       NaN    NaN  NaN         NaN   \n",
      "31680     NaN  NaN              NaN  NaN       NaN    NaN  NaN         NaN   \n",
      "31681     NaN  NaN              NaN  NaN       NaN    NaN  NaN         NaN   \n",
      "31682     NaN  NaN              NaN  NaN       NaN    NaN  NaN         NaN   \n",
      "31683     NaN  NaN              NaN  NaN       NaN    NaN  NaN         NaN   \n",
      "31684     NaN  NaN              NaN  NaN       NaN    NaN  NaN         NaN   \n",
      "31685     NaN  NaN              NaN  NaN       NaN    NaN  NaN         NaN   \n",
      "31686     NaN  NaN              NaN  NaN       NaN    NaN  NaN         NaN   \n",
      "31687     NaN  NaN              NaN  NaN       NaN    NaN  NaN         NaN   \n",
      "31688     NaN  NaN              NaN  NaN       NaN    NaN  NaN         NaN   \n",
      "31689     NaN  NaN              NaN  NaN       NaN    NaN  NaN         NaN   \n",
      "31690     NaN  NaN              NaN  NaN       NaN    NaN  NaN         NaN   \n",
      "31691     NaN  NaN              NaN  NaN       NaN    NaN  NaN         NaN   \n",
      "31692     NaN  NaN              NaN  NaN       NaN    NaN  NaN         NaN   \n",
      "31693     NaN  NaN              NaN  NaN       NaN    NaN  NaN         NaN   \n",
      "31694     NaN  NaN              NaN  NaN       NaN    NaN  NaN         NaN   \n",
      "31695     NaN  NaN              NaN  NaN       NaN    NaN  NaN         NaN   \n",
      "31696     NaN  NaN              NaN  NaN       NaN    NaN  NaN         NaN   \n",
      "31697     NaN  NaN              NaN  NaN       NaN    NaN  NaN         NaN   \n",
      "31698     NaN  NaN              NaN  NaN       NaN    NaN  NaN         NaN   \n",
      "31699     NaN  NaN              NaN  NaN       NaN    NaN  NaN         NaN   \n",
      "31700     NaN  NaN              NaN  NaN       NaN    NaN  NaN         NaN   \n",
      "31701     NaN  NaN              NaN  NaN       NaN    NaN  NaN         NaN   \n",
      "31702     NaN  NaN              NaN  NaN       NaN    NaN  NaN         NaN   \n",
      "31703     NaN  NaN              NaN  NaN       NaN    NaN  NaN         NaN   \n",
      "31704     NaN  NaN              NaN  NaN       NaN    NaN  NaN         NaN   \n",
      "31705     NaN  NaN              NaN  NaN       NaN    NaN  NaN         NaN   \n",
      "31706     NaN  NaN              NaN  NaN       NaN    NaN  NaN         NaN   \n",
      "31707     NaN  NaN              NaN  NaN       NaN    NaN  NaN         NaN   \n",
      "31708     NaN  NaN              NaN  NaN       NaN    NaN  NaN         NaN   \n",
      "\n",
      "         i         j  ...         ss       tt               uu     vv     ww  \\\n",
      "0        f  query_yn  ...      xcomp     root       xcomp_root  135.0   87.0   \n",
      "1        g     align  ...       root     root        root_root   31.0   21.0   \n",
      "2        g  instruct  ...      ccomp  prep_to    ccomp_prep_to  284.0  190.0   \n",
      "3        g  query_yn  ...         na       na               na   35.0   19.0   \n",
      "4      NaN       NaN  ...        NaN      NaN              NaN    NaN    NaN   \n",
      "5      NaN       NaN  ...        NaN      NaN              NaN    NaN    NaN   \n",
      "6      NaN       NaN  ...        NaN      NaN              NaN    NaN    NaN   \n",
      "7      NaN       NaN  ...        NaN      NaN              NaN    NaN    NaN   \n",
      "8      NaN       NaN  ...        NaN      NaN              NaN    NaN    NaN   \n",
      "9      NaN       NaN  ...        NaN      NaN              NaN    NaN    NaN   \n",
      "10       g  instruct  ...    prep_of  prep_to  prep_of_prep_to    0.0    0.0   \n",
      "11       g   explain  ...       root    rcmod       root_rcmod  178.0  116.0   \n",
      "12     NaN       NaN  ...        NaN      NaN              NaN    NaN    NaN   \n",
      "13     NaN       NaN  ...        NaN      NaN              NaN    NaN    NaN   \n",
      "14       g  query_yn  ...    prep_of    ccomp    prep_of_ccomp   53.0   32.0   \n",
      "15       g  instruct  ...       dobj     root        dobj_root  166.0   86.0   \n",
      "16       g  instruct  ...    prep_of     root     prep_of_root  458.0  282.0   \n",
      "17     NaN       NaN  ...        NaN      NaN              NaN    NaN    NaN   \n",
      "18       f   query_w  ...      ccomp    ccomp      ccomp_ccomp  175.0  111.0   \n",
      "19     NaN       NaN  ...        NaN      NaN              NaN    NaN    NaN   \n",
      "20       g  query_yn  ...     infmod    ccomp     infmod_ccomp   37.0   26.0   \n",
      "21       g   explain  ...         na       na               na   63.0   39.0   \n",
      "22       g   explain  ...       pobj     root        pobj_root  172.0  108.0   \n",
      "23       g  query_yn  ...    prep_to    ccomp    prep_to_ccomp   53.0   32.0   \n",
      "24       g   explain  ...        neg      dep          neg_dep   81.0   49.0   \n",
      "25     NaN       NaN  ...        NaN      NaN              NaN    NaN    NaN   \n",
      "26       g  instruct  ...      ccomp     root       ccomp_root  218.0  143.0   \n",
      "27       g   reply_w  ...         na       na               na   46.0   35.0   \n",
      "28     NaN       NaN  ...        NaN      NaN              NaN    NaN    NaN   \n",
      "29       g     align  ...         na       na               na  123.1   85.0   \n",
      "...    ...       ...  ...        ...      ...              ...    ...    ...   \n",
      "31679  NaN       NaN  ...        NaN      NaN              NaN    NaN    NaN   \n",
      "31680  NaN       NaN  ...        NaN      NaN              NaN    NaN    NaN   \n",
      "31681  NaN       NaN  ...        NaN      NaN              NaN    NaN    NaN   \n",
      "31682  NaN       NaN  ...        NaN      NaN              NaN    NaN    NaN   \n",
      "31683  NaN       NaN  ...        NaN      NaN              NaN    NaN    NaN   \n",
      "31684  NaN       NaN  ...        NaN      NaN              NaN    NaN    NaN   \n",
      "31685  NaN       NaN  ...        NaN      NaN              NaN    NaN    NaN   \n",
      "31686  NaN       NaN  ...        NaN      NaN              NaN    NaN    NaN   \n",
      "31687  NaN       NaN  ...        NaN      NaN              NaN    NaN    NaN   \n",
      "31688  NaN       NaN  ...        NaN      NaN              NaN    NaN    NaN   \n",
      "31689  NaN       NaN  ...        NaN      NaN              NaN    NaN    NaN   \n",
      "31690  NaN       NaN  ...        NaN      NaN              NaN    NaN    NaN   \n",
      "31691  NaN       NaN  ...        NaN      NaN              NaN    NaN    NaN   \n",
      "31692  NaN       NaN  ...        NaN      NaN              NaN    NaN    NaN   \n",
      "31693  NaN       NaN  ...        NaN      NaN              NaN    NaN    NaN   \n",
      "31694  NaN       NaN  ...        NaN      NaN              NaN    NaN    NaN   \n",
      "31695  NaN       NaN  ...        NaN      NaN              NaN    NaN    NaN   \n",
      "31696  NaN       NaN  ...        NaN      NaN              NaN    NaN    NaN   \n",
      "31697  NaN       NaN  ...        NaN      NaN              NaN    NaN    NaN   \n",
      "31698  NaN       NaN  ...        NaN      NaN              NaN    NaN    NaN   \n",
      "31699  NaN       NaN  ...        NaN      NaN              NaN    NaN    NaN   \n",
      "31700  NaN       NaN  ...        NaN      NaN              NaN    NaN    NaN   \n",
      "31701  NaN       NaN  ...        NaN      NaN              NaN    NaN    NaN   \n",
      "31702  NaN       NaN  ...        NaN      NaN              NaN    NaN    NaN   \n",
      "31703  NaN       NaN  ...        NaN      NaN              NaN    NaN    NaN   \n",
      "31704  NaN       NaN  ...        NaN      NaN              NaN    NaN    NaN   \n",
      "31705  NaN       NaN  ...        NaN      NaN              NaN    NaN    NaN   \n",
      "31706  NaN       NaN  ...        NaN      NaN              NaN    NaN    NaN   \n",
      "31707  NaN       NaN  ...        NaN      NaN              NaN    NaN    NaN   \n",
      "31708  NaN       NaN  ...        NaN      NaN              NaN    NaN    NaN   \n",
      "\n",
      "        xx   yy   zz     vv     ww  \n",
      "0      0.0  0.0  0.0  135.0   87.0  \n",
      "1      0.0  0.0  0.0   31.0   21.0  \n",
      "2      0.0  0.0  0.0  284.0  190.0  \n",
      "3      0.0  0.0  0.0   35.0   19.0  \n",
      "4      NaN  NaN  NaN  187.9  122.0  \n",
      "5      NaN  NaN  NaN  133.0   97.0  \n",
      "6      NaN  NaN  NaN   25.0   11.0  \n",
      "7      NaN  NaN  NaN  192.0  118.0  \n",
      "8      NaN  NaN  NaN  198.0  141.0  \n",
      "9      NaN  NaN  NaN   81.0   47.0  \n",
      "10     1.0  1.0  0.0    0.0    0.0  \n",
      "11     0.0  0.0  0.0  178.0  116.0  \n",
      "12     NaN  NaN  NaN    6.0    6.0  \n",
      "13     NaN  NaN  NaN  171.1  110.0  \n",
      "14     0.0  0.0  0.0   53.0   32.0  \n",
      "15     0.0  0.0  0.0  166.0   86.0  \n",
      "16     0.0  0.0  0.0  458.0  282.0  \n",
      "17     NaN  NaN  NaN   60.0   38.0  \n",
      "18     0.0  0.0  0.0  175.0  111.0  \n",
      "19     NaN  NaN  NaN    2.0    1.0  \n",
      "20     0.0  0.0  0.0   37.0   26.0  \n",
      "21     0.0  0.0  0.0   63.0   39.0  \n",
      "22     0.0  0.0  0.0  172.0  108.0  \n",
      "23     0.0  0.0  0.0   53.0   32.0  \n",
      "24     0.0  0.0  0.0   81.0   49.0  \n",
      "25     NaN  NaN  NaN   28.0   21.0  \n",
      "26     0.0  0.0  0.0  218.0  143.0  \n",
      "27     0.0  0.0  0.0   46.0   35.0  \n",
      "28     NaN  NaN  NaN  693.0  435.0  \n",
      "29     0.0  0.0  0.0  123.1   85.0  \n",
      "...    ...  ...  ...    ...    ...  \n",
      "31679  NaN  NaN  NaN   49.0   29.0  \n",
      "31680  NaN  NaN  NaN    0.0    0.0  \n",
      "31681  NaN  NaN  NaN   15.0   11.0  \n",
      "31682  NaN  NaN  NaN   34.0   25.0  \n",
      "31683  NaN  NaN  NaN   80.0   52.0  \n",
      "31684  NaN  NaN  NaN  159.0  104.0  \n",
      "31685  NaN  NaN  NaN  213.0  142.0  \n",
      "31686  NaN  NaN  NaN   74.0   48.0  \n",
      "31687  NaN  NaN  NaN  146.0  101.0  \n",
      "31688  NaN  NaN  NaN    3.0    1.0  \n",
      "31689  NaN  NaN  NaN  206.0  117.0  \n",
      "31690  NaN  NaN  NaN   55.0   32.0  \n",
      "31691  NaN  NaN  NaN  189.0  140.0  \n",
      "31692  NaN  NaN  NaN    9.0    5.0  \n",
      "31693  NaN  NaN  NaN   78.0   51.0  \n",
      "31694  NaN  NaN  NaN   22.0   12.0  \n",
      "31695  NaN  NaN  NaN   57.0   32.0  \n",
      "31696  NaN  NaN  NaN   91.0   59.0  \n",
      "31697  NaN  NaN  NaN  354.0  220.0  \n",
      "31698  NaN  NaN  NaN  176.0  117.0  \n",
      "31699  NaN  NaN  NaN   58.0   40.0  \n",
      "31700  NaN  NaN  NaN  105.0   75.0  \n",
      "31701  NaN  NaN  NaN  266.0  197.0  \n",
      "31702  NaN  NaN  NaN   32.0   18.0  \n",
      "31703  NaN  NaN  NaN  220.0  153.0  \n",
      "31704  NaN  NaN  NaN   29.0   18.0  \n",
      "31705  NaN  NaN  NaN  136.0  100.0  \n",
      "31706  NaN  NaN  NaN  130.0  108.0  \n",
      "31707  NaN  NaN  NaN  255.0  173.0  \n",
      "31708  NaN  NaN  NaN  118.0   98.0  \n",
      "\n",
      "[31709 rows x 54 columns]\n"
     ]
    }
   ],
   "source": [
    "print(X_quiz_k_best)"
   ]
  },
  {
   "cell_type": "code",
   "execution_count": 21,
   "metadata": {
    "collapsed": false
   },
   "outputs": [
    {
     "ename": "ValueError",
     "evalue": "could not convert string to float: pobj_root",
     "output_type": "error",
     "traceback": [
      "\u001b[0;31m---------------------------------------------------------------------------\u001b[0m",
      "\u001b[0;31mValueError\u001b[0m                                Traceback (most recent call last)",
      "\u001b[0;32m<ipython-input-21-4bd830d3a9fe>\u001b[0m in \u001b[0;36m<module>\u001b[0;34m()\u001b[0m\n\u001b[0;32m----> 1\u001b[0;31m \u001b[0mpreds\u001b[0m \u001b[0;34m=\u001b[0m \u001b[0mclf_full_trained\u001b[0m\u001b[0;34m.\u001b[0m\u001b[0mpredict\u001b[0m\u001b[0;34m(\u001b[0m\u001b[0mX_quiz_k_best\u001b[0m\u001b[0;34m)\u001b[0m\u001b[0;34m\u001b[0m\u001b[0m\n\u001b[0m\u001b[1;32m      2\u001b[0m \u001b[0mwrite_results\u001b[0m\u001b[0;34m(\u001b[0m\u001b[0mpreds\u001b[0m\u001b[0;34m)\u001b[0m\u001b[0;34m\u001b[0m\u001b[0m\n",
      "\u001b[0;32m/usr/local/lib/python2.7/site-packages/sklearn/ensemble/forest.pyc\u001b[0m in \u001b[0;36mpredict\u001b[0;34m(self, X)\u001b[0m\n\u001b[1;32m    496\u001b[0m             \u001b[0mThe\u001b[0m \u001b[0mpredicted\u001b[0m \u001b[0mclasses\u001b[0m\u001b[0;34m.\u001b[0m\u001b[0;34m\u001b[0m\u001b[0m\n\u001b[1;32m    497\u001b[0m         \"\"\"\n\u001b[0;32m--> 498\u001b[0;31m         \u001b[0mproba\u001b[0m \u001b[0;34m=\u001b[0m \u001b[0mself\u001b[0m\u001b[0;34m.\u001b[0m\u001b[0mpredict_proba\u001b[0m\u001b[0;34m(\u001b[0m\u001b[0mX\u001b[0m\u001b[0;34m)\u001b[0m\u001b[0;34m\u001b[0m\u001b[0m\n\u001b[0m\u001b[1;32m    499\u001b[0m \u001b[0;34m\u001b[0m\u001b[0m\n\u001b[1;32m    500\u001b[0m         \u001b[0;32mif\u001b[0m \u001b[0mself\u001b[0m\u001b[0;34m.\u001b[0m\u001b[0mn_outputs_\u001b[0m \u001b[0;34m==\u001b[0m \u001b[0;36m1\u001b[0m\u001b[0;34m:\u001b[0m\u001b[0;34m\u001b[0m\u001b[0m\n",
      "\u001b[0;32m/usr/local/lib/python2.7/site-packages/sklearn/ensemble/forest.pyc\u001b[0m in \u001b[0;36mpredict_proba\u001b[0;34m(self, X)\u001b[0m\n\u001b[1;32m    535\u001b[0m         \"\"\"\n\u001b[1;32m    536\u001b[0m         \u001b[0;31m# Check data\u001b[0m\u001b[0;34m\u001b[0m\u001b[0;34m\u001b[0m\u001b[0m\n\u001b[0;32m--> 537\u001b[0;31m         \u001b[0mX\u001b[0m \u001b[0;34m=\u001b[0m \u001b[0mself\u001b[0m\u001b[0;34m.\u001b[0m\u001b[0m_validate_X_predict\u001b[0m\u001b[0;34m(\u001b[0m\u001b[0mX\u001b[0m\u001b[0;34m)\u001b[0m\u001b[0;34m\u001b[0m\u001b[0m\n\u001b[0m\u001b[1;32m    538\u001b[0m \u001b[0;34m\u001b[0m\u001b[0m\n\u001b[1;32m    539\u001b[0m         \u001b[0;31m# Assign chunk of trees to jobs\u001b[0m\u001b[0;34m\u001b[0m\u001b[0;34m\u001b[0m\u001b[0m\n",
      "\u001b[0;32m/usr/local/lib/python2.7/site-packages/sklearn/ensemble/forest.pyc\u001b[0m in \u001b[0;36m_validate_X_predict\u001b[0;34m(self, X)\u001b[0m\n\u001b[1;32m    317\u001b[0m                                  \"call `fit` before exploiting the model.\")\n\u001b[1;32m    318\u001b[0m \u001b[0;34m\u001b[0m\u001b[0m\n\u001b[0;32m--> 319\u001b[0;31m         \u001b[0;32mreturn\u001b[0m \u001b[0mself\u001b[0m\u001b[0;34m.\u001b[0m\u001b[0mestimators_\u001b[0m\u001b[0;34m[\u001b[0m\u001b[0;36m0\u001b[0m\u001b[0;34m]\u001b[0m\u001b[0;34m.\u001b[0m\u001b[0m_validate_X_predict\u001b[0m\u001b[0;34m(\u001b[0m\u001b[0mX\u001b[0m\u001b[0;34m,\u001b[0m \u001b[0mcheck_input\u001b[0m\u001b[0;34m=\u001b[0m\u001b[0mTrue\u001b[0m\u001b[0;34m)\u001b[0m\u001b[0;34m\u001b[0m\u001b[0m\n\u001b[0m\u001b[1;32m    320\u001b[0m \u001b[0;34m\u001b[0m\u001b[0m\n\u001b[1;32m    321\u001b[0m     \u001b[0;34m@\u001b[0m\u001b[0mproperty\u001b[0m\u001b[0;34m\u001b[0m\u001b[0m\n",
      "\u001b[0;32m/usr/local/lib/python2.7/site-packages/sklearn/tree/tree.pyc\u001b[0m in \u001b[0;36m_validate_X_predict\u001b[0;34m(self, X, check_input)\u001b[0m\n\u001b[1;32m    363\u001b[0m \u001b[0;34m\u001b[0m\u001b[0m\n\u001b[1;32m    364\u001b[0m         \u001b[0;32mif\u001b[0m \u001b[0mcheck_input\u001b[0m\u001b[0;34m:\u001b[0m\u001b[0;34m\u001b[0m\u001b[0m\n\u001b[0;32m--> 365\u001b[0;31m             \u001b[0mX\u001b[0m \u001b[0;34m=\u001b[0m \u001b[0mcheck_array\u001b[0m\u001b[0;34m(\u001b[0m\u001b[0mX\u001b[0m\u001b[0;34m,\u001b[0m \u001b[0mdtype\u001b[0m\u001b[0;34m=\u001b[0m\u001b[0mDTYPE\u001b[0m\u001b[0;34m,\u001b[0m \u001b[0maccept_sparse\u001b[0m\u001b[0;34m=\u001b[0m\u001b[0;34m\"csr\"\u001b[0m\u001b[0;34m)\u001b[0m\u001b[0;34m\u001b[0m\u001b[0m\n\u001b[0m\u001b[1;32m    366\u001b[0m             if issparse(X) and (X.indices.dtype != np.intc or\n\u001b[1;32m    367\u001b[0m                                 X.indptr.dtype != np.intc):\n",
      "\u001b[0;32m/usr/local/lib/python2.7/site-packages/sklearn/utils/validation.pyc\u001b[0m in \u001b[0;36mcheck_array\u001b[0;34m(array, accept_sparse, dtype, order, copy, force_all_finite, ensure_2d, allow_nd, ensure_min_samples, ensure_min_features, warn_on_dtype, estimator)\u001b[0m\n\u001b[1;32m    371\u001b[0m                                       force_all_finite)\n\u001b[1;32m    372\u001b[0m     \u001b[0;32melse\u001b[0m\u001b[0;34m:\u001b[0m\u001b[0;34m\u001b[0m\u001b[0m\n\u001b[0;32m--> 373\u001b[0;31m         \u001b[0marray\u001b[0m \u001b[0;34m=\u001b[0m \u001b[0mnp\u001b[0m\u001b[0;34m.\u001b[0m\u001b[0marray\u001b[0m\u001b[0;34m(\u001b[0m\u001b[0marray\u001b[0m\u001b[0;34m,\u001b[0m \u001b[0mdtype\u001b[0m\u001b[0;34m=\u001b[0m\u001b[0mdtype\u001b[0m\u001b[0;34m,\u001b[0m \u001b[0morder\u001b[0m\u001b[0;34m=\u001b[0m\u001b[0morder\u001b[0m\u001b[0;34m,\u001b[0m \u001b[0mcopy\u001b[0m\u001b[0;34m=\u001b[0m\u001b[0mcopy\u001b[0m\u001b[0;34m)\u001b[0m\u001b[0;34m\u001b[0m\u001b[0m\n\u001b[0m\u001b[1;32m    374\u001b[0m \u001b[0;34m\u001b[0m\u001b[0m\n\u001b[1;32m    375\u001b[0m         \u001b[0;32mif\u001b[0m \u001b[0mensure_2d\u001b[0m\u001b[0;34m:\u001b[0m\u001b[0;34m\u001b[0m\u001b[0m\n",
      "\u001b[0;31mValueError\u001b[0m: could not convert string to float: pobj_root"
     ]
    }
   ],
   "source": [
    "preds = clf_full_trained.predict(X_quiz_k_best)\n",
    "write_results(preds)"
   ]
  },
  {
   "cell_type": "code",
   "execution_count": 4,
   "metadata": {
    "collapsed": false
   },
   "outputs": [
    {
     "ename": "NameError",
     "evalue": "name 'X_train_k_best' is not defined",
     "output_type": "error",
     "traceback": [
      "\u001b[0;31m---------------------------------------------------------------------------\u001b[0m",
      "\u001b[0;31mNameError\u001b[0m                                 Traceback (most recent call last)",
      "\u001b[0;32m<ipython-input-4-aec4b84d32db>\u001b[0m in \u001b[0;36m<module>\u001b[0;34m()\u001b[0m\n\u001b[1;32m     12\u001b[0m \u001b[0mclf\u001b[0m \u001b[0;34m=\u001b[0m \u001b[0mgrid_search\u001b[0m\u001b[0;34m.\u001b[0m\u001b[0mGridSearchCV\u001b[0m\u001b[0;34m(\u001b[0m\u001b[0mrf\u001b[0m\u001b[0;34m,\u001b[0m \u001b[0mparam_grid\u001b[0m\u001b[0;34m)\u001b[0m\u001b[0;34m\u001b[0m\u001b[0m\n\u001b[1;32m     13\u001b[0m \u001b[0;34m\u001b[0m\u001b[0m\n\u001b[0;32m---> 14\u001b[0;31m \u001b[0mx_train\u001b[0m\u001b[0;34m,\u001b[0m \u001b[0mx_test\u001b[0m\u001b[0;34m,\u001b[0m \u001b[0my_train\u001b[0m\u001b[0;34m,\u001b[0m \u001b[0my_test\u001b[0m \u001b[0;34m=\u001b[0m \u001b[0mtrain_test_split\u001b[0m\u001b[0;34m(\u001b[0m\u001b[0mX_train_k_best\u001b[0m\u001b[0;34m,\u001b[0m \u001b[0mtask\u001b[0m\u001b[0;34m.\u001b[0m\u001b[0mix\u001b[0m\u001b[0;34m[\u001b[0m\u001b[0;34m:\u001b[0m\u001b[0;34m,\u001b[0m\u001b[0;34m-\u001b[0m\u001b[0;36m1\u001b[0m\u001b[0;34m]\u001b[0m\u001b[0;34m,\u001b[0m \u001b[0mtrain_size\u001b[0m\u001b[0;34m=\u001b[0m\u001b[0;36m0.05\u001b[0m\u001b[0;34m,\u001b[0m \u001b[0mtest_size\u001b[0m\u001b[0;34m=\u001b[0m\u001b[0;36m0.05\u001b[0m\u001b[0;34m)\u001b[0m\u001b[0;34m\u001b[0m\u001b[0m\n\u001b[0m\u001b[1;32m     15\u001b[0m \u001b[0mclf_trained\u001b[0m \u001b[0;34m=\u001b[0m \u001b[0mclf\u001b[0m\u001b[0;34m.\u001b[0m\u001b[0mfit\u001b[0m\u001b[0;34m(\u001b[0m\u001b[0mx_train\u001b[0m\u001b[0;34m,\u001b[0m \u001b[0my_train\u001b[0m\u001b[0;34m)\u001b[0m\u001b[0;34m\u001b[0m\u001b[0m\n\u001b[1;32m     16\u001b[0m \u001b[0;34m\u001b[0m\u001b[0m\n",
      "\u001b[0;31mNameError\u001b[0m: name 'X_train_k_best' is not defined"
     ]
    }
   ],
   "source": [
    "# Exploring different parameter settings with grid_search\n",
    "# Features reduced with select k best\n",
    "# Training size reduced with train_test_split\n",
    "\n",
    "param_grid = [{\n",
    "    'n_estimators': [100],\n",
    "    'max_features': [50],\n",
    "    'max_depth': [200]\n",
    "}]\n",
    "\n",
    "rf = RandomForestClassifier(n_jobs=2)\n",
    "clf = grid_search.GridSearchCV(rf, param_grid)\n",
    "\n",
    "x_train, x_test, y_train, y_test = train_test_split(X_train_k_best, task.ix[:,-1], train_size=0.05, test_size=0.05)\n",
    "clf_trained = clf.fit(x_train, y_train)\n",
    "\n",
    "scores = cross_val_score(clf_trained, x_test, y_test, cv=2)\n",
    "\n",
    "print(scores)\n",
    "print('best params: ', clf_trained.best_params_)"
   ]
  },
  {
   "cell_type": "code",
   "execution_count": null,
   "metadata": {
    "collapsed": false
   },
   "outputs": [],
   "source": [
    "# n_estimators accuracy plot\n",
    "param_results = clf_trained.grid_scores_\n",
    "\n",
    "# Features were reduced using select K best (1000)\n",
    "# train_size=0.05, test_size=0.05 (train_test_split)\n",
    "n_estimators_values = [1, 10, 100, 500, 1000, 1500, 2000, 2500, 3000, 3500, 4000, 4500, 5000]\n",
    "n_estimators_results = [0.65084, 0.81438, 0.85980, 0.86027, 0.86217, 0.86169, 0.86106, 0.86343,\n",
    "                        0.86154, 0.86138, 0.86264, 0.86359, 0.86185]\n",
    "\n",
    "ts = pd.Series(n_estimators_results, index=n_estimators_values)\n",
    "\n",
    "ax = ts.plot()\n",
    "ax.set_title('Number of RF estimators vs RF prediction accuracy', fontsize=14, fontweight='bold')\n",
    "ax.set_xlabel('n_estimators')\n",
    "ax.set_ylabel('accuracy')\n",
    "\n",
    "plt.figure(); ts.plot();\n",
    "plt.show()"
   ]
  },
  {
   "cell_type": "code",
   "execution_count": null,
   "metadata": {
    "collapsed": false
   },
   "outputs": [],
   "source": [
    "# max_features accuracy plot\n",
    "param_results = clf_trained.grid_scores_\n",
    "# pp.pprint(param_results)\n",
    "\n",
    "max_features_values = [1, 10, 50, 100, 200, 500, 1000]\n",
    "max_features_results = [0.57562, 0.84608, 0.87352, 0.87053, 0.87478, 0.87305, 0.86942]\n",
    "\n",
    "ts = pd.Series(max_features_results, index=max_features_values)\n",
    "\n",
    "ax = ts.plot()\n",
    "ax.set_title('Number of RF features vs RF prediction accuracy', fontsize=14, fontweight='bold')\n",
    "ax.set_xlabel('max_features')\n",
    "ax.set_ylabel('accuracy')\n",
    "\n",
    "plt.figure(); ts.plot();\n",
    "plt.show()"
   ]
  },
  {
   "cell_type": "code",
   "execution_count": null,
   "metadata": {
    "collapsed": false
   },
   "outputs": [],
   "source": [
    "# max_depth accuracy plot\n",
    "param_results = clf_trained.grid_scores_\n",
    "pp.pprint(param_results)\n",
    "\n",
    "max_depth_values = [1, 10, 50, 100, 200, 500, 1000, 2000, 5000]\n",
    "max_depth_results = [0.64517, 0.86501, 0.88850, 0.88771, 0.89182, 0.88992, 0.88945, 0.88693, 0.88992]\n",
    "\n",
    "ts = pd.Series(max_depth_results, index=max_depth_values)\n",
    "\n",
    "ax = ts.plot()\n",
    "ax.set_title('RF max depth vs RF prediction accuracy', fontsize=14, fontweight='bold')\n",
    "ax.set_xlabel('max_depth')\n",
    "ax.set_ylabel('accuracy')\n",
    "\n",
    "plt.figure(); ts.plot();\n",
    "plt.show()"
   ]
  },
  {
   "cell_type": "code",
   "execution_count": 1,
   "metadata": {
    "collapsed": true
   },
   "outputs": [],
   "source": [
    "def write_results(preds):\n",
    "    with open('test_predictions.csv', 'wb') as csvfile:\n",
    "        writer = csv.writer(csvfile, delimiter=',', quotechar='|', quoting=csv.QUOTE_MINIMAL)\n",
    "        writer.writerow(['id', 'Prediction'])\n",
    "        for i, pred in enumerate(preds):\n",
    "            writer.writerow([i+1, pred])"
   ]
  },
  {
   "cell_type": "code",
   "execution_count": null,
   "metadata": {
    "collapsed": true
   },
   "outputs": [],
   "source": []
  }
 ],
 "metadata": {
  "kernelspec": {
   "display_name": "Python 2",
   "language": "python",
   "name": "python2"
  },
  "language_info": {
   "codemirror_mode": {
    "name": "ipython",
    "version": 2
   },
   "file_extension": ".py",
   "mimetype": "text/x-python",
   "name": "python",
   "nbconvert_exporter": "python",
   "pygments_lexer": "ipython2",
   "version": "2.7.10"
  }
 },
 "nbformat": 4,
 "nbformat_minor": 0
}
