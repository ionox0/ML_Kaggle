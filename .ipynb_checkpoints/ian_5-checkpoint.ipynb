{
 "cells": [
  {
   "cell_type": "code",
   "execution_count": 68,
   "metadata": {
    "collapsed": false
   },
   "outputs": [],
   "source": [
    "import csv\n",
    "import math\n",
    "import numpy as np\n",
    "import pandas as pd\n",
    "import string\n",
    "# Classification utils\n",
    "from sklearn.cross_validation import train_test_split\n",
    "from sklearn.cross_validation import cross_val_score\n",
    "from sklearn.feature_selection import SelectKBest\n",
    "from sklearn.feature_selection import chi2\n",
    "\n",
    "from sklearn.ensemble import RandomForestClassifier, ExtraTreesRegressor\n",
    "from sklearn.linear_model import LogisticRegression\n",
    "from sklearn.naive_bayes import GaussianNB, MultinomialNB\n",
    "from sklearn.ensemble import VotingClassifier\n",
    "\n",
    "import matplotlib\n",
    "import matplotlib.pyplot as plt\n",
    "\n",
    "matplotlib.style.use('ggplot')\n",
    "import pprint\n",
    "pp = pprint.PrettyPrinter(indent=4)\n",
    "\n",
    "train = pd.read_csv('data.csv')\n",
    "quiz = pd.read_csv('quiz.csv')"
   ]
  },
  {
   "cell_type": "code",
   "execution_count": 69,
   "metadata": {
    "collapsed": true
   },
   "outputs": [],
   "source": [
    "# Name Columns (53 total)\n",
    "alphabet = list(string.ascii_lowercase)\n",
    "alphabet2 = alphabet + [l+l for l in alphabet] + ['aaa']\n",
    "\n",
    "train.columns = alphabet2\n",
    "quiz.columns = alphabet2[:-1]\n",
    "\n",
    "continuous_cols = ['vv', 'ww']\n",
    "boolean_cols = ['g', 'p', 'q', 's', 'v', 'w', 'y', 'z', 'oo', 'pp', 'qq', 'rr', 'xx', 'yy', 'zz']\n",
    "zero_one_two_cols = ['aa','bb','cc','dd','ee','ff','gg','hh','ii','jj','kk','ll','mm','nn']\n",
    "categorical_cols = ['a', 'c', 'd', 'e', 'f', 'h', 'i', 'j', 'k', 'l', 'm', 'n', 'o', 'ss', 'tt', 'uu']\n",
    "numeric_cols = ['b', 'g', 'p', 'q', 'r', 's', 't', 'u', 'v', 'w', 'x', 'y',\n",
    "       'z', 'aa', 'bb', 'cc', 'dd', 'ee', 'ff', 'gg', 'hh', 'ii',\n",
    "       'jj', 'kk', 'll', 'mm', 'nn', 'oo', 'pp', 'qq', 'rr', 'vv',\n",
    "       'ww', 'xx', 'yy', 'zz']\n",
    "\n",
    "cols = train.columns\n",
    "num_cols = train._get_numeric_data().columns\n",
    "list(set(cols) - set(num_cols))\n",
    "\n",
    "for col in categorical_cols:\n",
    "    task[col] = train[col].astype('category')\n",
    "    quiz[col] = quiz[col].astype('category')\n",
    "\n",
    "numeric_indices = []\n",
    "for i, letter in enumerate(alphabet2):\n",
    "    if letter in numeric_cols:\n",
    "        numeric_indices.append(i)\n",
    "\n",
    "train_labels = np.array(task['aaa']).astype(int)"
   ]
  },
  {
   "cell_type": "code",
   "execution_count": 81,
   "metadata": {
    "collapsed": false
   },
   "outputs": [],
   "source": [
    "# Test prediction\n",
    "x_train, x_test, y_train, y_test = train_test_split(train, train.ix[:,-1], train_size=0.5, test_size=0.1)\n",
    "\n",
    "train_dummies = pd.get_dummies(x_train[categorical_cols + zero_one_two_cols + boolean_cols])\n",
    "test_dummies = pd.get_dummies(x_test[categorical_cols + zero_one_two_cols + boolean_cols])\n",
    "\n",
    "train_dummies = train_dummies[[col for col in train_dummies.columns if col in quiz_dummies.columns]]\n",
    "test_dummies = test_dummies[[col for col in test_dummies.columns if col in train_dummies.columns]]\n",
    "\n",
    "train_dummies_plus_continuous = pd.concat([train_dummies, x_train[continuous_cols]], axis=1)\n",
    "test_dummies_plus_continuous = pd.concat([test_dummies, x_test[continuous_cols]], axis=1)"
   ]
  },
  {
   "cell_type": "code",
   "execution_count": 83,
   "metadata": {
    "collapsed": false
   },
   "outputs": [
    {
     "name": "stdout",
     "output_type": "stream",
     "text": [
      "[ 0.89598109  0.89869925  0.9144659   0.9022082   0.90812303]\n"
     ]
    }
   ],
   "source": [
    "rf = RandomForestClassifier(n_estimators=100, min_samples_leaf=2, max_features=500, n_jobs=3)\n",
    "# rf = ExtraTreesRegressor(n_estimators=10, max_features=50, max_depth=200)\n",
    "\n",
    "rf.fit(train_dummies_plus_continuous, y_train)\n",
    "\n",
    "scores = cross_val_score(rf, test_dummies_plus_continuous, y_test, cv=5)\n",
    "print(scores)\n",
    "\n",
    "\n",
    "\n",
    "# rf = RandomForestClassifier(n_estimators=200, max_features=50, max_depth=200)\n",
    "# [ 0.90307329  0.89791092  0.90776508  0.90930599  0.91285489]\n",
    "\n",
    "# rf = RandomForestClassifier(n_estimators=200, min_samples_leaf=1, max_features=50, max_depth=200)\n",
    "# [ 0.9168309   0.91486007  0.90500591  0.90579425  0.91916404]\n",
    "\n",
    "# rf = RandomForestClassifier(n_estimators=250, min_samples_leaf=2, max_features=50, max_depth=250)\n",
    "# [ 0.89948758  0.90145842  0.89515175  0.90303508  0.90891167]\n",
    "\n",
    "# rf = RandomForestClassifier(n_estimators=250, min_samples_leaf=2, max_features=500, max_depth=500)\n",
    "# [ 0.90185258  0.90776508  0.89948758  0.90421758  0.91009464]\n",
    "\n",
    "# rf = RandomForestClassifier(n_estimators=100, min_samples_leaf=2, max_features=500, n_jobs=3)\n",
    "# [ 0.89598109  0.89869925  0.9144659   0.9022082   0.90812303]\n",
    "\n",
    "# rf = RandomForestClassifier(n_estimators=300, min_samples_leaf=2, max_features=500, max_depth=500)\n",
    "# preds = rf.predict(quiz_dummies_plus_continuous)"
   ]
  },
  {
   "cell_type": "code",
   "execution_count": 60,
   "metadata": {
    "collapsed": false
   },
   "outputs": [
    {
     "name": "stdout",
     "output_type": "stream",
     "text": [
      "(31709, 52)\n",
      "(31709, 3466)\n",
      "(31709,)\n"
     ]
    }
   ],
   "source": [
    "# Actual prediction\n",
    "train_dummies = pd.get_dummies(train[categorical_cols + zero_one_two_cols + boolean_cols])\n",
    "quiz_dummies = pd.get_dummies(quiz[categorical_cols + zero_one_two_cols + boolean_cols])\n",
    "\n",
    "train_dummies = train_dummies[[col for col in train_dummies.columns if col in quiz_dummies.columns]]\n",
    "quiz_dummies = quiz_dummies[[col for col in quiz_dummies.columns if col in train_dummies.columns]]\n",
    "\n",
    "train_dummies_plus_continuous = pd.concat([train_dummies, train[continuous_cols]], axis=1)\n",
    "quiz_dummies_plus_continuous = pd.concat([quiz_dummies, quiz[continuous_cols]], axis=1)\n",
    "\n",
    "rf = RandomForestClassifier(n_estimators=100, max_features=50, max_depth=200)\n",
    "rf.fit(train_dummies_plus_continuous, train.ix[:,-1])\n",
    "preds = rf.predict(quiz_dummies_plus_continuous)\n",
    "\n",
    "print(quiz.shape)\n",
    "print(quiz_dummies.shape)\n",
    "print(preds.shape)"
   ]
  },
  {
   "cell_type": "code",
   "execution_count": 61,
   "metadata": {
    "collapsed": true
   },
   "outputs": [],
   "source": [
    "def write_results(preds):\n",
    "    with open('test_predictions.csv', 'wb') as csvfile:\n",
    "        writer = csv.writer(csvfile, delimiter=',', quotechar='|', quoting=csv.QUOTE_MINIMAL)\n",
    "        writer.writerow(['id', 'Prediction'])\n",
    "        for i, pred in enumerate(preds):\n",
    "            writer.writerow([i+1, pred])\n",
    "            \n",
    "write_results(preds)"
   ]
  },
  {
   "cell_type": "code",
   "execution_count": null,
   "metadata": {
    "collapsed": true
   },
   "outputs": [],
   "source": []
  }
 ],
 "metadata": {
  "kernelspec": {
   "display_name": "Python 2",
   "language": "python",
   "name": "python2"
  },
  "language_info": {
   "codemirror_mode": {
    "name": "ipython",
    "version": 2
   },
   "file_extension": ".py",
   "mimetype": "text/x-python",
   "name": "python",
   "nbconvert_exporter": "python",
   "pygments_lexer": "ipython2",
   "version": "2.7.10"
  }
 },
 "nbformat": 4,
 "nbformat_minor": 0
}
