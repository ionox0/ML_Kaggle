{
 "cells": [
  {
   "cell_type": "code",
   "execution_count": 2,
   "metadata": {
    "collapsed": true
   },
   "outputs": [],
   "source": [
    "import csv\n",
    "import math\n",
    "import numpy as np\n",
    "import pandas\n",
    "import string\n",
    "\n",
    "# Classification utils\n",
    "from sklearn.cross_validation import train_test_split\n",
    "from sklearn.cross_validation import cross_val_score\n",
    "from sklearn.feature_selection import VarianceThreshold\n",
    "from sklearn.preprocessing import LabelEncoder\n",
    "from sklearn.preprocessing import PolynomialFeatures\n",
    "from sklearn.cross_validation import KFold\n",
    "\n",
    "# Classifiers\n",
    "from sklearn.neighbors import KNeighborsClassifier\n",
    "from sklearn.linear_model import LogisticRegression\n",
    "from sklearn.tree import DecisionTreeClassifier\n",
    "from sklearn.naive_bayes import GaussianNB, MultinomialNB\n",
    "from sklearn.ensemble import RandomForestClassifier, AdaBoostClassifier\n",
    "\n",
    "from sklearn.ensemble import VotingClassifier"
   ]
  },
  {
   "cell_type": "code",
   "execution_count": 3,
   "metadata": {
    "collapsed": true
   },
   "outputs": [],
   "source": [
    "# Load\n",
    "train = pandas.read_csv('data.csv')\n",
    "test = pandas.read_csv('quiz.csv')"
   ]
  },
  {
   "cell_type": "code",
   "execution_count": 4,
   "metadata": {
    "collapsed": true
   },
   "outputs": [],
   "source": [
    "# Name Columns (53 total)\n",
    "alphabet = list(string.ascii_lowercase)\n",
    "alphabet2 = alphabet + [l+l for l in alphabet] + ['aaa']\n",
    "\n",
    "train.columns = alphabet2\n",
    "# Leave out label column for test data\n",
    "test.columns = alphabet2[:-1]\n",
    "\n",
    "# Designate Boolean Columns (15 total)\n",
    "boolean_cols = [\n",
    "    'g', 'p', 'q', 's',\n",
    "    'v', 'w', 'y', 'z',\n",
    "    'oo', 'pp', 'qq', 'rr',\n",
    "    'xx', 'yy', 'zz'\n",
    "]\n",
    "\n",
    "# Designate Categorical Columns (16 total)\n",
    "cols = train.columns\n",
    "num_cols = train._get_numeric_data().columns\n",
    "list(set(cols) - set(num_cols))\n",
    "\n",
    "categorical_cols = ['a', 'c', 'e', 'd', 'f',\n",
    " 'uu', 'i', 'k', 'j', 'm',\n",
    " 'l', 'o', 'n', 'ss', 'h',\n",
    " 'tt']\n",
    "\n",
    "for col in categorical_cols:\n",
    "    train[col] = train[col].astype('category')\n",
    "    test[col] = test[col].astype('category')\n",
    "\n",
    "# Designate Numeric Columns (37 total)\n",
    "numeric_cols = ['b', 'g', 'p', 'q', 'r', 's', 't', 'u', 'v', 'w', 'x', 'y',\n",
    "       'z', 'aa', 'bb', 'cc', 'dd', 'ee', 'ff', 'gg', 'hh', 'ii',\n",
    "       'jj', 'kk', 'll', 'mm', 'nn', 'oo', 'pp', 'qq', 'rr', 'vv',\n",
    "       'ww', 'xx', 'yy', 'zz']\n",
    "\n",
    "actual_numeric_cols = ['vv', 'ww']\n",
    "\n",
    "numeric_indices = []\n",
    "for i, letter in enumerate(alphabet2):\n",
    "    if letter in numeric_cols:\n",
    "        numeric_indices.append(i)\n",
    "    \n",
    "# [1, 6, 15, 16, 17, 18, 19, 20, 21, 22, 23, 24, 25, 26, 27, 28, 29, 30, 31, 32, 33,\n",
    "# 34, 35, 36, 37, 38, 39, 40, 41, 42, 43, 47, 48, 49, 50, 51, 52]\n",
    "\n",
    "train_labels = np.array(train['aaa']).astype(int)"
   ]
  },
  {
   "cell_type": "code",
   "execution_count": null,
   "metadata": {
    "collapsed": false
   },
   "outputs": [],
   "source": [
    "sel = VarianceThreshold(threshold=(.8))\n",
    "reduced_features_train = sel.fit_transform(train[numeric_cols[:-1]])"
   ]
  },
  {
   "cell_type": "code",
   "execution_count": null,
   "metadata": {
    "collapsed": true
   },
   "outputs": [],
   "source": [
    "# Features shown to have coorelation with label\n",
    "coorelated_features = ['q', 'aa', 'bb', 'vv', 'ww']\n",
    "# Features selected by Recursive Feature Extraction\n",
    "rfe_selected_numeric_cols = ['x', 'p', 'dd', 'kk']"
   ]
  },
  {
   "cell_type": "code",
   "execution_count": 5,
   "metadata": {
    "collapsed": true
   },
   "outputs": [],
   "source": [
    "def cross_val(clf, train_data, train_labels):\n",
    "    x_train, x_test, y_train, y_test = train_test_split(train_data, train_labels, test_size=0.4)\n",
    "    clf_trained = clf.fit(x_train, y_train)\n",
    "    scores = cross_val_score(clf_trained, x_train, y_train, cv=2)\n",
    "    return scores"
   ]
  },
  {
   "cell_type": "code",
   "execution_count": null,
   "metadata": {
    "collapsed": false
   },
   "outputs": [],
   "source": [
    "# Training error using numeric columns\n",
    "\n",
    "# Keep label out of features\n",
    "clf = KNeighborsClassifier()\n",
    "e = cross_val(clf, train[coorelated_features], train_labels)\n",
    "print(e)   # [ 0.76499961  0.76318625]   regular KNN on features that are coorelated with the label --> ~76%"
   ]
  },
  {
   "cell_type": "code",
   "execution_count": 8,
   "metadata": {
    "collapsed": false
   },
   "outputs": [
    {
     "name": "stdout",
     "output_type": "stream",
     "text": [
      "[ 0.82042522  0.81784973]\n"
     ]
    }
   ],
   "source": [
    "# Training error using categorical columns\n",
    "\n",
    "# Method to convert to one-hot encodings\n",
    "# pd.get_dummies --> returns matrix of every feature, concatenated from all cols, into one feature space\n",
    "def encode_as_labels(X):\n",
    "    output = X.copy()\n",
    "    if X.columns is not None:\n",
    "        for col in X.columns:\n",
    "            output[col] = LabelEncoder().fit_transform(output[col])\n",
    "    else:\n",
    "        for colname,col in output.iteritems():\n",
    "            output[colname] = LabelEncoder().fit_transform(col)\n",
    "    return output"
   ]
  },
  {
   "cell_type": "code",
   "execution_count": null,
   "metadata": {
    "collapsed": true
   },
   "outputs": [],
   "source": [
    "enc_train = encode_as_labels(train[categorical_cols])\n",
    "r = RandomForestClassifier(n_estimators=100, max_depth=5)\n",
    "\n",
    "e = cross_val(r, enc_train, train_labels)\n",
    "print(e)    # [ 0.82063546  0.81616777]     RandomForest with max_depth=5, one-hot encoded categorical vars --> ~82%"
   ]
  },
  {
   "cell_type": "code",
   "execution_count": null,
   "metadata": {
    "collapsed": false
   },
   "outputs": [],
   "source": [
    "# Make test predictions using numeric columns\n",
    "trained = KNeighborsClassifier().fit(train[numeric_cols[:-1]], train['aaa'])\n",
    "preds = trained.predict(np.array(test[numeric_cols[:-1]]))\n",
    "write_results(preds)"
   ]
  },
  {
   "cell_type": "code",
   "execution_count": null,
   "metadata": {
    "collapsed": false
   },
   "outputs": [],
   "source": [
    "# Make test predictions using voting with multiple classifiers\n",
    "enc_train = encode_as_labels(train[categorical_cols])\n",
    "\n",
    "# Make sure not to include the training labels as part of the data that the classifiers are trainined on!\n",
    "# (otherwise will get 100% training prediction accuracy)\n",
    "frames = [train[numeric_cols[:-1]], enc_train]\n",
    "result = pandas.concat(frames, axis=1)\n",
    "\n",
    "poly = PolynomialFeatures(2)\n",
    "result = poly.fit_transform(result)\n",
    "\n",
    "print(train[numeric_cols].shape, train[categorical_cols].shape)\n",
    "print(result.shape)\n",
    "\n",
    "clf1 = LogisticRegression(random_state=1)\n",
    "clf2 = RandomForestClassifier(random_state=1, max_depth=5)\n",
    "clf3 = GaussianNB()\n",
    "\n",
    "eclf = VotingClassifier([('lr', clf1), ('rf', clf2), ('gnb', clf3)], voting='hard')\n",
    "scores = cross_val_score(eclf, result, train_labels, cv=10, scoring='accuracy')\n",
    "scores  # VotingClassifier with LR, RF, and GNB -->   ~80% accuracy"
   ]
  },
  {
   "cell_type": "code",
   "execution_count": 6,
   "metadata": {
    "collapsed": true
   },
   "outputs": [],
   "source": [
    "def write_results(preds):\n",
    "    with open('test_predictions.csv', 'wb') as csvfile:\n",
    "        writer = csv.writer(csvfile, delimiter=',', quotechar='|', quoting=csv.QUOTE_MINIMAL)\n",
    "        writer.writerow(['id', 'Prediction'])\n",
    "        for i, pred in enumerate(preds):\n",
    "            writer.writerow([i+1, pred])"
   ]
  },
  {
   "cell_type": "code",
   "execution_count": null,
   "metadata": {
    "collapsed": false
   },
   "outputs": [],
   "source": [
    "clf1 = LogisticRegression(random_state=1)\n",
    "clf2 = RandomForestClassifier(random_state=1, max_depth=5)\n",
    "clf3 = GaussianNB()\n",
    "\n",
    "eclf = VotingClassifier([('lr', clf1), ('rf', clf2), ('gnb', clf3)], voting='soft', weights=[1,1,1])\n",
    "\n",
    "enc_train = encode_as_labels(train[categorical_cols])\n",
    "frames = [train[numeric_cols[:-1]], enc_train]\n",
    "train_result = pandas.concat(frames, axis=1)\n",
    "\n",
    "enc_test = encode_as_labels(test[categorical_cols])\n",
    "frames = [test[numeric_cols[:-1]], enc_test]\n",
    "test_result = pandas.concat(frames, axis=1)\n",
    "\n",
    "eclf.fit(train_result, train['aaa'])\n",
    "write_results(eclf.predict(test_result))"
   ]
  },
  {
   "cell_type": "code",
   "execution_count": null,
   "metadata": {
    "collapsed": true
   },
   "outputs": [],
   "source": []
  },
  {
   "cell_type": "code",
   "execution_count": 23,
   "metadata": {
    "collapsed": false
   },
   "outputs": [
    {
     "name": "stdout",
     "output_type": "stream",
     "text": [
      "              a    b                c  d            e      f    g  \\\n",
      "0          null  0.0            nsubj  g     query_yn    def  0.0   \n",
      "1          null  0.0             dobj  f     query_yn    pro  0.0   \n",
      "2           def  0.0          prep_to  g      query_w  indef  0.0   \n",
      "3           pro  0.0       prep_above  f      reply_w    def  0.0   \n",
      "4           def  0.0             pobj  f     query_yn    def  0.0   \n",
      "5           def  0.0             dobj  g        align    def  0.0   \n",
      "6          null  0.0             root  f      reply_w    def  0.0   \n",
      "7           pro  0.0            nsubj  g      explain    def  0.0   \n",
      "8            el  0.0              dep  f      reply_y  indef  0.0   \n",
      "9          poss  0.0       prep_above  g     instruct    def  0.0   \n",
      "10          pro  0.0             dobj  f      query_w    def  0.0   \n",
      "11          def  0.0      prep_across  g     instruct  indef  0.0   \n",
      "12          def  0.0             root  f     query_yn    def  0.0   \n",
      "13           el  0.0              det  g      explain    def  0.0   \n",
      "14          def  0.0          prep_of  g      clarify    def  0.0   \n",
      "15          def  0.0             pobj  f      query_w    def  0.0   \n",
      "16          def  0.0       prep_below  g      clarify  indef  0.0   \n",
      "17           el  0.0          prep_at  f      explain  indef  0.0   \n",
      "18          def  0.0          prep_of  g     instruct   dctc  0.0   \n",
      "19          def  0.0             dobj  f     query_yn    def  0.0   \n",
      "20          def  0.0               nn  f      reply_w  indef  0.0   \n",
      "21        indef  0.0             dobj  g     query_yn   null  0.0   \n",
      "22           el  0.0             prep  g        align    def  0.0   \n",
      "23         null  0.0             dobj  g      explain     el  0.0   \n",
      "24          def  0.0        prep_past  g     instruct    pro  0.0   \n",
      "25          def  0.0             pobj  f        check    def  0.0   \n",
      "26        indef  0.0             dobj  g      explain    def  0.0   \n",
      "27        indef  0.0             root  g        check  indef  0.0   \n",
      "28          def  0.0            nsubj  g        align   poss  0.0   \n",
      "29      posspro  0.0         conj_and  f      explain    def  0.0   \n",
      "...         ...  ...              ... ..          ...    ...  ...   \n",
      "126806      def  0.0          prep_of  g        check    def  0.0   \n",
      "126807      def  0.0       prep_above  g  acknowledge    def  0.0   \n",
      "126808      def  0.0               nn  g        align    def  0.0   \n",
      "126809    indef  0.0            nsubj  f      reply_w   dctc  0.0   \n",
      "126810     null  0.0             dobj  g     query_yn    num  0.0   \n",
      "126811    indef  0.0             dobj  f      explain    def  0.0   \n",
      "126812      def  0.0          prep_of  g      clarify    pro  0.0   \n",
      "126813     null  0.0              dep  f      explain  indef  0.0   \n",
      "126814      def  0.0            nsubj  g        align    pro  0.0   \n",
      "126815      def  0.0      prep_around  g     instruct   null  0.0   \n",
      "126816      dem  0.0             dobj  f     query_yn  indef  0.0   \n",
      "126817      def  0.0          prep_of  f        check    def  0.0   \n",
      "126818     null  0.0             dobj  f     query_yn   null  0.0   \n",
      "126819    indef  0.0             dobj  g      explain    def  0.0   \n",
      "126820      def  0.0       prep_below  g      reply_y    def  0.0   \n",
      "126821      pro  0.0       prep_above  f        check    def  0.0   \n",
      "126822      pro  0.0              dep  g     instruct    def  0.0   \n",
      "126823      def  0.0            nsubj  g        align    def  0.0   \n",
      "126824      def  0.0          prep_of  g     instruct    def  0.0   \n",
      "126825    indef  0.0             dobj  f      explain    pro  0.0   \n",
      "126826      def  0.0          prep_to  g     instruct   null  0.0   \n",
      "126827      def  0.0          prep_of  g      query_w   null  0.0   \n",
      "126828     null  0.0             tmod  g     query_yn   null  0.0   \n",
      "126829       el  0.0          prep_of  g      query_w    def  0.0   \n",
      "126830      def  0.0          prep_of  g     instruct    def  0.0   \n",
      "126831    indef  0.0             dobj  g     query_yn   poss  0.0   \n",
      "126832      pro  0.0             dobj  g      explain   null  0.0   \n",
      "126833    indef  0.0             dobj  g     query_yn     el  0.0   \n",
      "126834      pro  0.0  prep_underneath  g     instruct    def  0.0   \n",
      "126835      def  0.0          prep_of  f      explain  indef  0.0   \n",
      "\n",
      "                      h  i            j ...    rr          ss           tt  \\\n",
      "0                 nsubj  f      explain ...   1.0       xcomp         root   \n",
      "1                 nsubj  f      reply_w ...   0.0       ccomp         root   \n",
      "2           prep_beside  f        check ...   1.0     prep_in         root   \n",
      "3               prep_at  g        align ...   1.0  prep_about         root   \n",
      "4             prep_over  f  acknowledge ...   1.0        root         root   \n",
      "5               prep_of  g        align ...   1.0       ccomp      prep_to   \n",
      "6            prep_below  g     instruct ...   1.0          na           na   \n",
      "7             prep_from  g     instruct ...   1.0       rcmod         root   \n",
      "8                  dobj  g     query_yn ...   0.0         dep        ccomp   \n",
      "9                    nn  g     query_yn ...   1.0        root         dobj   \n",
      "10              prep_at  g     instruct ...   1.0        root         root   \n",
      "11                nsubj  g     query_yn ...   1.0       advcl         root   \n",
      "12                 pobj  f        check ...   1.0          na           na   \n",
      "13                 root  g     instruct ...   0.0          na           na   \n",
      "14              prep_at  g     instruct ...   1.0     prep_of         root   \n",
      "15              prep_to  g     instruct ...   1.0       csubj         root   \n",
      "16                nsubj  f        align ...   1.0        pobj         root   \n",
      "17           prep_above  g     instruct ...   0.0        root         root   \n",
      "18              prep_of  f        check ...   0.0         dep         pobj   \n",
      "19              prep_of  g     instruct ...   1.0       ccomp         dobj   \n",
      "20           prep_above  g     instruct ...   1.0     prep_of         root   \n",
      "21                   nn  g        align ...   1.0        root         root   \n",
      "22              prep_at  g        align ...   0.0       ccomp         root   \n",
      "23              prep_on  g      explain ...   0.0        root    prep_like   \n",
      "24              prep_of  g     instruct ...   1.0        root      prep_up   \n",
      "25      prep_underneath  g     instruct ...   1.0        root  prep_across   \n",
      "26                 pobj  g        check ...   1.0         dep         root   \n",
      "27                 dobj  g      explain ...   1.0          na           na   \n",
      "28                 pobj  f        check ...   1.0       ccomp        pcomp   \n",
      "29                 dobj  g     query_yn ...   0.0    conj_and        ccomp   \n",
      "...                 ... ..          ... ...   ...         ...          ...   \n",
      "126806            nsubj  g      explain ...   1.0       nsubj         root   \n",
      "126807          prep_at  g     instruct ...   1.0        root         root   \n",
      "126808        prep_from  g     instruct ...   1.0         dep         dobj   \n",
      "126809          prep_of  g     query_yn ...   0.0       ccomp      prep_to   \n",
      "126810        prep_like  f      explain ...   1.0       ccomp          dep   \n",
      "126811             dobj  g        align ...   1.0        root        rcmod   \n",
      "126812             dobj  f      explain ...   1.0        dobj         root   \n",
      "126813              dep  g      explain ...   1.0        root          dep   \n",
      "126814     prep_beneath  f      explain ...   1.0       advcl        rcmod   \n",
      "126815          prep_of  g     instruct ...   1.0       xcomp      prep_to   \n",
      "126816               nn  g     query_yn ...   0.0       ccomp         dobj   \n",
      "126817             root  g     instruct ...   1.0          na           na   \n",
      "126818       prep_under  f        check ...   1.0       xcomp        xcomp   \n",
      "126819             dobj  g        align ...   1.0         dep        ccomp   \n",
      "126820          prep_at  f  acknowledge ...   1.0        root         root   \n",
      "126821       prep_above  g     instruct ...   1.0        root         root   \n",
      "126822            nsubj  g      explain ...   1.0    conj_and         root   \n",
      "126823               nn  g     query_yn ...   1.0       advcl         dobj   \n",
      "126824       prep_above  g      explain ...   1.0     prep_to        nsubj   \n",
      "126825     prep_beneath  f      explain ...   1.0        root        rcmod   \n",
      "126826             dobj  g     query_yn ...   1.0       rcmod        ccomp   \n",
      "126827             dobj  g     query_yn ...   1.0       nsubj        ccomp   \n",
      "126828             root  f      reply_w ...   1.0          na           na   \n",
      "126829             dobj  g        align ...   0.0   prep_from         root   \n",
      "126830             root  g     instruct ...   1.0          na           na   \n",
      "126831            rcmod  g     instruct ...   1.0       ccomp      prep_to   \n",
      "126832       prep_below  g      explain ...   0.0        root         root   \n",
      "126833             root  f      explain ...   0.0          na           na   \n",
      "126834          prep_at  g     instruct ...   1.0      advmod         root   \n",
      "126835       prep_above  g     instruct ...   1.0        root         root   \n",
      "\n",
      "                      uu     vv     ww   xx   yy   zz  aaa  \n",
      "0             xcomp_root   80.0   49.0  0.0  0.0  0.0   -1  \n",
      "1             ccomp_root   85.0   56.0  0.0  0.0  0.0   -1  \n",
      "2           prep_in_root    1.0    1.0  0.0  0.0  0.0   -1  \n",
      "3        prep_about_root  353.0  217.0  0.0  0.0  0.0    1  \n",
      "4              root_root    3.0    2.0  0.0  0.0  0.0   -1  \n",
      "5          ccomp_prep_to   63.0   42.0  0.0  0.0  0.0   -1  \n",
      "6                     na  366.0  223.0  0.0  0.0  0.0   -1  \n",
      "7             rcmod_root  129.0   68.0  0.0  0.0  0.0    1  \n",
      "8              dep_ccomp    5.0    3.0  0.0  0.0  0.0    1  \n",
      "9              root_dobj  436.0  256.0  0.0  0.0  0.0    1  \n",
      "10             root_root  183.0  113.0  0.0  0.0  0.0    1  \n",
      "11            advcl_root   20.0   12.0  0.0  0.0  0.0    1  \n",
      "12                    na  303.0  198.0  0.0  0.0  0.0   -1  \n",
      "13                    na  129.0   96.0  0.0  0.0  0.0    1  \n",
      "14          prep_of_root  136.0   78.0  0.0  0.0  0.0    1  \n",
      "15            csubj_root  213.0  123.0  0.0  0.0  0.0    1  \n",
      "16             pobj_root  280.0  177.0  0.0  0.0  0.0    1  \n",
      "17             root_root  410.0  265.0  0.0  0.0  0.0    1  \n",
      "18              dep_pobj    6.9    5.0  0.0  0.0  0.0   -1  \n",
      "19            ccomp_dobj   95.0   63.0  0.0  0.0  0.0   -1  \n",
      "20          prep_of_root  113.0   77.0  0.0  0.0  0.0    1  \n",
      "21             root_root  131.0   96.0  0.0  0.0  0.0   -1  \n",
      "22            ccomp_root  313.0  194.0  0.0  0.0  0.0    1  \n",
      "23        root_prep_like  130.0   80.0  0.0  0.0  0.0   -1  \n",
      "24          root_prep_up    2.0    2.0  0.0  0.0  0.0   -1  \n",
      "25      root_prep_across    9.0    5.0  0.0  0.0  0.0   -1  \n",
      "26              dep_root   69.0   48.0  0.0  0.0  0.0   -1  \n",
      "27                    na  244.0  186.0  0.0  0.0  0.0    1  \n",
      "28           ccomp_pcomp   11.0    5.0  0.0  0.0  0.0   -1  \n",
      "29        conj_and_ccomp  169.0  109.0  0.0  0.0  0.0    1  \n",
      "...                  ...    ...    ...  ...  ...  ...  ...  \n",
      "126806        nsubj_root   76.0   66.0  0.0  0.0  0.0    1  \n",
      "126807         root_root  292.0  182.0  0.0  0.0  0.0    1  \n",
      "126808          dep_dobj  163.1  110.0  0.0  0.0  0.0    1  \n",
      "126809     ccomp_prep_to   76.0   47.0  0.0  0.0  0.0   -1  \n",
      "126810         ccomp_dep   20.0   11.0  0.0  0.0  0.0   -1  \n",
      "126811        root_rcmod    8.0    5.0  0.0  0.0  0.0   -1  \n",
      "126812         dobj_root   17.0   11.0  0.0  0.0  0.0    1  \n",
      "126813          root_dep  133.0  101.0  0.0  0.0  0.0   -1  \n",
      "126814       advcl_rcmod  312.0  199.0  0.0  0.0  0.0   -1  \n",
      "126815     xcomp_prep_to   16.0    8.0  0.0  0.0  0.0    1  \n",
      "126816        ccomp_dobj   23.0   15.0  0.0  0.0  0.0   -1  \n",
      "126817                na  152.0   91.0  0.0  0.0  0.0    1  \n",
      "126818       xcomp_xcomp  137.0   98.0  0.0  0.0  0.0   -1  \n",
      "126819         dep_ccomp  154.0   96.0  0.0  0.0  0.0   -1  \n",
      "126820         root_root  212.0  149.0  0.0  0.0  0.0    1  \n",
      "126821         root_root   80.0   59.0  0.0  0.0  0.0    1  \n",
      "126822     conj_and_root   43.0   40.0  0.0  0.0  0.0    1  \n",
      "126823        advcl_dobj  202.0  114.0  0.0  0.0  0.0    1  \n",
      "126824     prep_to_nsubj  313.9  210.0  0.0  0.0  0.0    1  \n",
      "126825        root_rcmod  335.0  214.0  0.0  0.0  0.0   -1  \n",
      "126826       rcmod_ccomp  348.0  244.0  0.0  0.0  0.0    1  \n",
      "126827       nsubj_ccomp  435.9  304.0  0.0  0.0  0.0    1  \n",
      "126828                na  125.0   79.0  0.0  0.0  0.0   -1  \n",
      "126829    prep_from_root  252.0  170.0  0.0  0.0  0.0    1  \n",
      "126830                na   95.0   68.0  0.0  0.0  0.0    1  \n",
      "126831     ccomp_prep_to   59.0   40.0  0.0  0.0  0.0   -1  \n",
      "126832         root_root  126.0   74.0  0.0  0.0  0.0   -1  \n",
      "126833                na  161.0  107.0  0.0  0.0  0.0   -1  \n",
      "126834       advmod_root  121.0   72.0  0.0  0.0  0.0    1  \n",
      "126835         root_root  378.0  247.0  0.0  0.0  0.0    1  \n",
      "\n",
      "[126836 rows x 53 columns]\n"
     ]
    },
    {
     "ename": "TypeError",
     "evalue": "unhashable type",
     "output_type": "error",
     "traceback": [
      "\u001b[0;31m---------------------------------------------------------------------------\u001b[0m",
      "\u001b[0;31mTypeError\u001b[0m                                 Traceback (most recent call last)",
      "\u001b[0;32m<ipython-input-23-b9c4ac89b20c>\u001b[0m in \u001b[0;36m<module>\u001b[0;34m()\u001b[0m\n\u001b[1;32m     39\u001b[0m \u001b[0ma\u001b[0m \u001b[0;34m=\u001b[0m \u001b[0mMetaClassifier\u001b[0m\u001b[0;34m(\u001b[0m\u001b[0;34m)\u001b[0m\u001b[0;34m\u001b[0m\u001b[0m\n\u001b[1;32m     40\u001b[0m \u001b[0;32mprint\u001b[0m\u001b[0;34m(\u001b[0m\u001b[0mtrain\u001b[0m\u001b[0;34m[\u001b[0m\u001b[0;34m:\u001b[0m\u001b[0;34m-\u001b[0m\u001b[0;36m1\u001b[0m\u001b[0;34m]\u001b[0m\u001b[0;34m)\u001b[0m\u001b[0;34m\u001b[0m\u001b[0m\n\u001b[0;32m---> 41\u001b[0;31m \u001b[0mpreds\u001b[0m \u001b[0;34m=\u001b[0m \u001b[0mcross_val\u001b[0m\u001b[0;34m(\u001b[0m\u001b[0ma\u001b[0m\u001b[0;34m,\u001b[0m \u001b[0mtrain\u001b[0m\u001b[0;34m[\u001b[0m\u001b[0;34m:\u001b[0m\u001b[0;34m,\u001b[0m\u001b[0;34m:\u001b[0m\u001b[0;34m-\u001b[0m\u001b[0;36m1\u001b[0m\u001b[0;34m]\u001b[0m\u001b[0;34m,\u001b[0m \u001b[0mtrain\u001b[0m\u001b[0;34m[\u001b[0m\u001b[0;34m'aaa'\u001b[0m\u001b[0;34m]\u001b[0m\u001b[0;34m)\u001b[0m\u001b[0;34m\u001b[0m\u001b[0m\n\u001b[0m\u001b[1;32m     42\u001b[0m \u001b[0;32mprint\u001b[0m\u001b[0;34m(\u001b[0m\u001b[0mpreds\u001b[0m\u001b[0;34m)\u001b[0m\u001b[0;34m\u001b[0m\u001b[0m\n\u001b[1;32m     43\u001b[0m \u001b[0mwrite_results\u001b[0m\u001b[0;34m(\u001b[0m\u001b[0mpreds\u001b[0m\u001b[0;34m)\u001b[0m\u001b[0;34m\u001b[0m\u001b[0m\n",
      "\u001b[0;32m/usr/local/lib/python2.7/site-packages/pandas/core/frame.pyc\u001b[0m in \u001b[0;36m__getitem__\u001b[0;34m(self, key)\u001b[0m\n\u001b[1;32m   1990\u001b[0m             \u001b[0;32mreturn\u001b[0m \u001b[0mself\u001b[0m\u001b[0;34m.\u001b[0m\u001b[0m_getitem_multilevel\u001b[0m\u001b[0;34m(\u001b[0m\u001b[0mkey\u001b[0m\u001b[0;34m)\u001b[0m\u001b[0;34m\u001b[0m\u001b[0m\n\u001b[1;32m   1991\u001b[0m         \u001b[0;32melse\u001b[0m\u001b[0;34m:\u001b[0m\u001b[0;34m\u001b[0m\u001b[0m\n\u001b[0;32m-> 1992\u001b[0;31m             \u001b[0;32mreturn\u001b[0m \u001b[0mself\u001b[0m\u001b[0;34m.\u001b[0m\u001b[0m_getitem_column\u001b[0m\u001b[0;34m(\u001b[0m\u001b[0mkey\u001b[0m\u001b[0;34m)\u001b[0m\u001b[0;34m\u001b[0m\u001b[0m\n\u001b[0m\u001b[1;32m   1993\u001b[0m \u001b[0;34m\u001b[0m\u001b[0m\n\u001b[1;32m   1994\u001b[0m     \u001b[0;32mdef\u001b[0m \u001b[0m_getitem_column\u001b[0m\u001b[0;34m(\u001b[0m\u001b[0mself\u001b[0m\u001b[0;34m,\u001b[0m \u001b[0mkey\u001b[0m\u001b[0;34m)\u001b[0m\u001b[0;34m:\u001b[0m\u001b[0;34m\u001b[0m\u001b[0m\n",
      "\u001b[0;32m/usr/local/lib/python2.7/site-packages/pandas/core/frame.pyc\u001b[0m in \u001b[0;36m_getitem_column\u001b[0;34m(self, key)\u001b[0m\n\u001b[1;32m   1997\u001b[0m         \u001b[0;31m# get column\u001b[0m\u001b[0;34m\u001b[0m\u001b[0;34m\u001b[0m\u001b[0m\n\u001b[1;32m   1998\u001b[0m         \u001b[0;32mif\u001b[0m \u001b[0mself\u001b[0m\u001b[0;34m.\u001b[0m\u001b[0mcolumns\u001b[0m\u001b[0;34m.\u001b[0m\u001b[0mis_unique\u001b[0m\u001b[0;34m:\u001b[0m\u001b[0;34m\u001b[0m\u001b[0m\n\u001b[0;32m-> 1999\u001b[0;31m             \u001b[0;32mreturn\u001b[0m \u001b[0mself\u001b[0m\u001b[0;34m.\u001b[0m\u001b[0m_get_item_cache\u001b[0m\u001b[0;34m(\u001b[0m\u001b[0mkey\u001b[0m\u001b[0;34m)\u001b[0m\u001b[0;34m\u001b[0m\u001b[0m\n\u001b[0m\u001b[1;32m   2000\u001b[0m \u001b[0;34m\u001b[0m\u001b[0m\n\u001b[1;32m   2001\u001b[0m         \u001b[0;31m# duplicate columns & possible reduce dimensionality\u001b[0m\u001b[0;34m\u001b[0m\u001b[0;34m\u001b[0m\u001b[0m\n",
      "\u001b[0;32m/usr/local/lib/python2.7/site-packages/pandas/core/generic.pyc\u001b[0m in \u001b[0;36m_get_item_cache\u001b[0;34m(self, item)\u001b[0m\n\u001b[1;32m   1341\u001b[0m         \u001b[0;34m\"\"\"Return the cached item, item represents a label indexer.\"\"\"\u001b[0m\u001b[0;34m\u001b[0m\u001b[0m\n\u001b[1;32m   1342\u001b[0m         \u001b[0mcache\u001b[0m \u001b[0;34m=\u001b[0m \u001b[0mself\u001b[0m\u001b[0;34m.\u001b[0m\u001b[0m_item_cache\u001b[0m\u001b[0;34m\u001b[0m\u001b[0m\n\u001b[0;32m-> 1343\u001b[0;31m         \u001b[0mres\u001b[0m \u001b[0;34m=\u001b[0m \u001b[0mcache\u001b[0m\u001b[0;34m.\u001b[0m\u001b[0mget\u001b[0m\u001b[0;34m(\u001b[0m\u001b[0mitem\u001b[0m\u001b[0;34m)\u001b[0m\u001b[0;34m\u001b[0m\u001b[0m\n\u001b[0m\u001b[1;32m   1344\u001b[0m         \u001b[0;32mif\u001b[0m \u001b[0mres\u001b[0m \u001b[0;32mis\u001b[0m \u001b[0mNone\u001b[0m\u001b[0;34m:\u001b[0m\u001b[0;34m\u001b[0m\u001b[0m\n\u001b[1;32m   1345\u001b[0m             \u001b[0mvalues\u001b[0m \u001b[0;34m=\u001b[0m \u001b[0mself\u001b[0m\u001b[0;34m.\u001b[0m\u001b[0m_data\u001b[0m\u001b[0;34m.\u001b[0m\u001b[0mget\u001b[0m\u001b[0;34m(\u001b[0m\u001b[0mitem\u001b[0m\u001b[0;34m)\u001b[0m\u001b[0;34m\u001b[0m\u001b[0m\n",
      "\u001b[0;31mTypeError\u001b[0m: unhashable type"
     ]
    }
   ],
   "source": [
    "# New method for ensemble classification\n",
    "# VotingClassifier doesn't let us use different classifiers on different columns, they all have to work on all cols...\n",
    "\n",
    "\n",
    "class MetaClassifier():\n",
    "    def __init__(self):\n",
    "        self.clf1 = LogisticRegression(random_state=1)\n",
    "        self.clf2 = RandomForestClassifier(random_state=1, max_depth=5)\n",
    "        self.clf3 = GaussianNB()\n",
    "\n",
    "    def fit(self, train_data, train_labels):\n",
    "        enc_train = encode_as_labels(train[categorical_cols])\n",
    "        self.clf1_trained = self.clf1.fit(train_data[numeric_cols], train_labels)\n",
    "        self.clf2_trained = self.clf2.fit(train_data[numeric_cols], train_labels)\n",
    "        self.clf3_trained = self.clf3.fit(enc_train, train_labels)\n",
    "        \n",
    "    def predict(self, data):\n",
    "        enc_test = encode_as_labels(data[categorical_cols])\n",
    "        \n",
    "        preds1 = clf1.predict(data[numeric_cols])\n",
    "        preds2 = clf2.predict(data[numeric_cols])\n",
    "        preds3 = clf3.predict(enc_test)\n",
    "\n",
    "        preds = np.sum(np.vstack([preds1,preds2,preds3]), axis=0)\n",
    "        print('before rounding: ', preds)\n",
    "        preds[preds > 0] = 1\n",
    "        preds[preds < 0] = -1\n",
    "        \n",
    "        return preds\n",
    "        \n",
    "\n",
    "def cross_val(clf, train_data, train_labels):\n",
    "    x_train, x_test, y_train, y_test = train_test_split(train_data, train_labels, test_size=0.4)\n",
    "    clf_trained = clf.fit(x_train, y_train)\n",
    "    scores = cross_val_score(clf_trained, x_train, y_train, cv=2)\n",
    "    return scores\n",
    "\n",
    "\n",
    "a = MetaClassifier()\n",
    "print(train[:-1])\n",
    "preds = cross_val(a, train[:,:-1], train['aaa'])\n",
    "print(preds)\n",
    "write_results(preds)"
   ]
  },
  {
   "cell_type": "code",
   "execution_count": null,
   "metadata": {
    "collapsed": true
   },
   "outputs": [],
   "source": [
    "x1 = np.arange(9.0).reshape((3, 3))\n",
    "x2 = np.arange(3.0)\n",
    "\n",
    "print(x1)\n",
    "print(x2)\n",
    "np.add(x1, x2)\n"
   ]
  },
  {
   "cell_type": "code",
   "execution_count": 14,
   "metadata": {
    "collapsed": false
   },
   "outputs": [],
   "source": [
    "write_results(preds)"
   ]
  },
  {
   "cell_type": "code",
   "execution_count": null,
   "metadata": {
    "collapsed": true
   },
   "outputs": [],
   "source": []
  }
 ],
 "metadata": {
  "kernelspec": {
   "display_name": "Python 2",
   "language": "python",
   "name": "python2"
  },
  "language_info": {
   "codemirror_mode": {
    "name": "ipython",
    "version": 2
   },
   "file_extension": ".py",
   "mimetype": "text/x-python",
   "name": "python",
   "nbconvert_exporter": "python",
   "pygments_lexer": "ipython2",
   "version": "2.7.10"
  }
 },
 "nbformat": 4,
 "nbformat_minor": 0
}
